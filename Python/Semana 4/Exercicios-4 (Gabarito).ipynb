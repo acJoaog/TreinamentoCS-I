{
 "cells": [
  {
   "cell_type": "markdown",
   "metadata": {},
   "source": [
    "# Exercício 1\n",
    "\n",
    "Crie uma classe abstrata ContaBancaria com métodos abstratos depositar e sacar. Crie duas subclasses ContaCorrente e ContaPoupanca que implementam esses métodos. Use descritores para garantir que o saldo nunca seja negativo. Após isso teste a implementação das classes ContaCorrente e ContaPoupança."
   ]
  },
  {
   "cell_type": "code",
   "execution_count": 2,
   "metadata": {},
   "outputs": [
    {
     "name": "stdout",
     "output_type": "stream",
     "text": [
      "Saldo da Conta Corrente: 150\n",
      "Saldo da Conta Poupança: 150\n",
      "Saldo insuficiente\n"
     ]
    }
   ],
   "source": [
    "from abc import ABC, abstractmethod\n",
    "\n",
    "class ContaBancaria(ABC):\n",
    "    def __init__(self, saldo_inicial=0):\n",
    "        self.saldo = saldo_inicial\n",
    "\n",
    "    @abstractmethod\n",
    "    def depositar(self, quantia):\n",
    "        pass\n",
    "\n",
    "    @abstractmethod\n",
    "    def sacar(self, quantia):\n",
    "        pass\n",
    "\n",
    "class ContaCorrente(ContaBancaria):\n",
    "    def depositar(self, quantia):\n",
    "        self.saldo += quantia\n",
    "\n",
    "    def sacar(self, quantia):\n",
    "        if self.saldo >= quantia:\n",
    "            self.saldo -= quantia\n",
    "        else:\n",
    "            raise ValueError(\"Saldo insuficiente\")\n",
    "\n",
    "class ContaPoupanca(ContaBancaria):\n",
    "    def depositar(self, quantia):\n",
    "        self.saldo += quantia\n",
    "\n",
    "    def sacar(self, quantia):\n",
    "        if self.saldo >= quantia:\n",
    "            self.saldo -= quantia\n",
    "        else:\n",
    "            raise ValueError(\"Saldo insuficiente\")\n",
    "\n",
    "# Teste as classes\n",
    "conta_corrente = ContaCorrente(100)\n",
    "conta_poupanca = ContaPoupanca(200)\n",
    "\n",
    "conta_corrente.depositar(50)\n",
    "conta_poupanca.sacar(50)\n",
    "\n",
    "print(\"Saldo da Conta Corrente:\", conta_corrente.saldo)\n",
    "print(\"Saldo da Conta Poupança:\", conta_poupanca.saldo)\n",
    "\n",
    "try:\n",
    "    conta_corrente.sacar(200)\n",
    "except ValueError as e:\n",
    "    print(e)\n"
   ]
  },
  {
   "cell_type": "markdown",
   "metadata": {},
   "source": [
    "# Exercício 2\n",
    "\n",
    "Crie uma classe abstrata 'Forma' com um método abstrato 'area'. Depois, crie duas subclasses, 'Retangulo' e 'Circulo', que implementam o método area. Utilize o import do pacote math para obter o valor de pi.\n",
    "\n",
    "pi = math.pi"
   ]
  },
  {
   "cell_type": "code",
   "execution_count": 3,
   "metadata": {},
   "outputs": [
    {
     "name": "stdout",
     "output_type": "stream",
     "text": [
      "Área do Retângulo: 20\n",
      "Área do Círculo: 28.274333882308138\n"
     ]
    }
   ],
   "source": [
    "from abc import ABC, abstractmethod\n",
    "import math\n",
    "\n",
    "class Forma(ABC):\n",
    "    @abstractmethod\n",
    "    def area(self):\n",
    "        pass\n",
    "\n",
    "class Retangulo(Forma):\n",
    "    def __init__(self, largura, altura):\n",
    "        self.largura = largura\n",
    "        self.altura = altura\n",
    "\n",
    "    def area(self):\n",
    "        return self.largura * self.altura\n",
    "\n",
    "class Circulo(Forma):\n",
    "    def __init__(self, raio):\n",
    "        self.raio = raio\n",
    "\n",
    "    def area(self):\n",
    "        return math.pi * (self.raio ** 2)\n",
    "    \n",
    "# Teste as classes\n",
    "retangulo = Retangulo(4, 5)\n",
    "print(\"Área do Retângulo:\", retangulo.area())\n",
    "\n",
    "circulo = Circulo(3)\n",
    "print(\"Área do Círculo:\", circulo.area())"
   ]
  },
  {
   "cell_type": "markdown",
   "metadata": {},
   "source": [
    "# Continuação do exercício anterior\n",
    "Crie uma função imprimir_area que recebe um objeto de qualquer classe que implementa o método area e imprime a área do objeto."
   ]
  },
  {
   "cell_type": "code",
   "execution_count": null,
   "metadata": {},
   "outputs": [],
   "source": [
    "def imprimir_area(forma):\n",
    "    print(\"Área:\", forma.area())\n",
    "\n",
    "# Teste a função com instâncias de Retangulo e Circulo\n",
    "imprimir_area(Retangulo(4, 5))\n",
    "imprimir_area(Circulo(3))"
   ]
  }
 ],
 "metadata": {
  "kernelspec": {
   "display_name": "Python 3",
   "language": "python",
   "name": "python3"
  },
  "language_info": {
   "codemirror_mode": {
    "name": "ipython",
    "version": 3
   },
   "file_extension": ".py",
   "mimetype": "text/x-python",
   "name": "python",
   "nbconvert_exporter": "python",
   "pygments_lexer": "ipython3",
   "version": "3.12.3"
  }
 },
 "nbformat": 4,
 "nbformat_minor": 2
}
