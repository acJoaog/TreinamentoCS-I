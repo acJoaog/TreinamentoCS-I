{
 "cells": [
  {
   "cell_type": "markdown",
   "metadata": {},
   "source": [
    "# Exercício 1\n",
    "\n",
    "Crie uma classe abstrata ContaBancaria com métodos abstratos depositar e sacar. Crie duas subclasses ContaCorrente e ContaPoupanca que implementam esses métodos. Use descritores para garantir que o saldo nunca seja negativo. Após isso teste a implementação das classes ContaCorrente e ContaPoupança."
   ]
  },
  {
   "cell_type": "code",
   "execution_count": null,
   "metadata": {},
   "outputs": [],
   "source": []
  },
  {
   "cell_type": "markdown",
   "metadata": {},
   "source": [
    "# Exercício 2\n",
    "\n",
    "Crie uma classe abstrata 'Forma' com um método abstrato 'area'. Depois, crie duas subclasses, 'Retangulo' e 'Circulo', que implementam o método area. Utilize o import do pacote math para obter o valor de pi.\n",
    "\n",
    "pi = math.pi"
   ]
  },
  {
   "cell_type": "code",
   "execution_count": null,
   "metadata": {},
   "outputs": [],
   "source": []
  },
  {
   "cell_type": "markdown",
   "metadata": {},
   "source": [
    "# Continuação do exercício anterior\n",
    "Crie uma função imprimir_area que recebe um objeto de qualquer classe que implementa o método area e imprime a área do objeto."
   ]
  },
  {
   "cell_type": "code",
   "execution_count": null,
   "metadata": {},
   "outputs": [],
   "source": []
  }
 ],
 "metadata": {
  "kernelspec": {
   "display_name": "Python 3",
   "language": "python",
   "name": "python3"
  },
  "language_info": {
   "codemirror_mode": {
    "name": "ipython",
    "version": 3
   },
   "file_extension": ".py",
   "mimetype": "text/x-python",
   "name": "python",
   "nbconvert_exporter": "python",
   "pygments_lexer": "ipython3",
   "version": "3.12.3"
  }
 },
 "nbformat": 4,
 "nbformat_minor": 2
}
