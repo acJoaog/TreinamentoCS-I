{
 "cells": [
  {
   "cell_type": "markdown",
   "metadata": {},
   "source": [
    "Crie uma classe chamada ContaBancaria que tenha os atributos saldo e titular. Utilize encapsulamento para proteger o saldo da conta de alterações diretas. Forneça métodos para depositar e sacar dinheiro da conta. Por fim crie um objeto da Classe ContaBancaria e utilize todos seus métodos."
   ]
  },
  {
   "cell_type": "code",
   "execution_count": 10,
   "metadata": {},
   "outputs": [
    {
     "name": "stdout",
     "output_type": "stream",
     "text": [
      "Titular da conta: João\n",
      "Saldo inicial: 1000\n",
      "Depósito de 500 realizado com sucesso.\n",
      "Novo saldo após depósito: 1500\n",
      "Saque de 200 realizado com sucesso.\n",
      "Novo saldo após saque: 1300\n"
     ]
    }
   ],
   "source": [
    "class ContaBancaria:\n",
    "    def __init__(self, titular, saldo_inicial=0):\n",
    "        self.__titular = titular  # Encapsulando o atributo titular\n",
    "        self.__saldo = saldo_inicial  # Encapsulando o atributo saldo\n",
    "\n",
    "    def depositar(self, valor):\n",
    "        if valor > 0:\n",
    "            self.__saldo += valor\n",
    "            print(\"Depósito de\", valor, \"realizado com sucesso.\")\n",
    "        else:\n",
    "            print(\"Valor inválido para depósito.\")\n",
    "\n",
    "    def sacar(self, valor):\n",
    "        if 0 < valor <= self.__saldo:\n",
    "            self.__saldo -= valor\n",
    "            print(\"Saque de\", valor, \"realizado com sucesso.\")\n",
    "        else:\n",
    "            print(\"Saldo insuficiente ou valor inválido para saque.\")\n",
    "\n",
    "    def get_saldo(self):\n",
    "        return self.__saldo\n",
    "\n",
    "    def get_titular(self):\n",
    "        return self.__titular\n",
    "\n",
    "# Exemplo de uso:\n",
    "conta = ContaBancaria(\"João\", 1000)\n",
    "print(\"Titular da conta:\", conta.get_titular())\n",
    "print(\"Saldo inicial:\", conta.get_saldo())\n",
    "conta.depositar(500)\n",
    "print(\"Novo saldo após depósito:\", conta.get_saldo())\n",
    "conta.sacar(200)\n",
    "print(\"Novo saldo após saque:\", conta.get_saldo())\n"
   ]
  },
  {
   "cell_type": "markdown",
   "metadata": {},
   "source": [
    "Crie uma classe Animal com métodos comuns a todos os animais, como comer(), e então crie duas subclasses, como Cachorro e Gato, que herdem de Animal e tenham métodos específicos, como latir() para Cachorro e miar() para Gato."
   ]
  },
  {
   "cell_type": "code",
   "execution_count": 9,
   "metadata": {},
   "outputs": [
    {
     "name": "stdout",
     "output_type": "stream",
     "text": [
      "Bolinha: Au au!\n",
      "Frajola: Miau!\n"
     ]
    }
   ],
   "source": [
    "class Animal:\n",
    "    def __init__(self, nome):\n",
    "        self.nome = nome\n",
    "\n",
    "class Cachorro(Animal):\n",
    "    def falar(self):\n",
    "        return \"Au au!\"\n",
    "\n",
    "class Gato(Animal):\n",
    "    def falar(self):\n",
    "        return \"Miau!\"\n",
    "\n",
    "# Exemplo de uso:\n",
    "cachorro = Cachorro(\"Bolinha\")\n",
    "print(cachorro.nome + \":\", cachorro.falar())\n",
    "\n",
    "gato = Gato(\"Frajola\")\n",
    "print(gato.nome + \":\", gato.falar())"
   ]
  },
  {
   "cell_type": "markdown",
   "metadata": {},
   "source": [
    "Crie uma Classe chamada Pessoa que possua nome e idade como atributos. Após isso instancie 5 pessoas com idades diferentes. Agora escreva uma função chamada encontra_mais_velho que recebe uma lista de objetos da Classe Pessoa. A função deve retornar o nome da pessoa mais velha. Por fim imprima o resultado da função criada passando como parâmetro a lista de pessoas criada por você."
   ]
  },
  {
   "cell_type": "code",
   "execution_count": 8,
   "metadata": {},
   "outputs": [
    {
     "name": "stdout",
     "output_type": "stream",
     "text": [
      "Felipe\n"
     ]
    }
   ],
   "source": [
    "class Pessoa():\n",
    "    def __init__(self,nome,idade):\n",
    "        self.nome = nome\n",
    "        self.idade = idade\n",
    "\n",
    "lista = list()\n",
    "\n",
    "lista.append(Pessoa(\"Joao\",21))\n",
    "lista.append(Pessoa(\"Pedro\",15))\n",
    "lista.append(Pessoa(\"Maria\",35))\n",
    "lista.append(Pessoa(\"Felipe\",50))\n",
    "lista.append(Pessoa(\"Júlia\",23))\n",
    "\n",
    "def encontra_mais_velho(lista):\n",
    "    mais_velho = lista[0]\n",
    "    for pessoa in lista:\n",
    "        if pessoa.idade > mais_velho.idade:\n",
    "            mais_velho = pessoa\n",
    "    return mais_velho.nome\n",
    "\n",
    "print(encontra_mais_velho(lista))"
   ]
  }
 ],
 "metadata": {
  "kernelspec": {
   "display_name": "Python 3",
   "language": "python",
   "name": "python3"
  },
  "language_info": {
   "codemirror_mode": {
    "name": "ipython",
    "version": 3
   },
   "file_extension": ".py",
   "mimetype": "text/x-python",
   "name": "python",
   "nbconvert_exporter": "python",
   "pygments_lexer": "ipython3",
   "version": "3.12.3"
  }
 },
 "nbformat": 4,
 "nbformat_minor": 2
}
