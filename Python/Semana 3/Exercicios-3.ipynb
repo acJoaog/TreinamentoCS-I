{
 "cells": [
  {
   "cell_type": "markdown",
   "metadata": {},
   "source": [
    "Crie uma classe chamada ContaBancaria que tenha os atributos saldo e titular. Utilize encapsulamento para proteger o saldo da conta de alterações diretas. Forneça métodos para depositar e sacar dinheiro da conta. Por fim crie um objeto da Classe ContaBancaria e utilize todos seus métodos."
   ]
  },
  {
   "cell_type": "code",
   "execution_count": null,
   "metadata": {},
   "outputs": [],
   "source": []
  },
  {
   "cell_type": "markdown",
   "metadata": {},
   "source": [
    "Crie uma classe Animal com métodos comuns a todos os animais, como comer(), e então crie duas subclasses, como Cachorro e Gato, que herdem de Animal e tenham métodos específicos, como latir() para Cachorro e miar() para Gato."
   ]
  },
  {
   "cell_type": "code",
   "execution_count": null,
   "metadata": {},
   "outputs": [],
   "source": []
  },
  {
   "cell_type": "markdown",
   "metadata": {},
   "source": [
    "Crie uma Classe chamada Pessoa que possua nome e idade como atributos. Após isso instancie 5 pessoas com idades diferentes. Agora escreva uma função chamada encontra_mais_velho que recebe uma lista de objetos da Classe Pessoa. A função deve retornar o nome da pessoa mais velha. Por fim imprima o resultado da função criada passando como parâmetro a lista de pessoas criada por você."
   ]
  },
  {
   "cell_type": "code",
   "execution_count": null,
   "metadata": {},
   "outputs": [],
   "source": []
  }
 ],
 "metadata": {
  "kernelspec": {
   "display_name": "Python 3",
   "language": "python",
   "name": "python3"
  },
  "language_info": {
   "codemirror_mode": {
    "name": "ipython",
    "version": 3
   },
   "file_extension": ".py",
   "mimetype": "text/x-python",
   "name": "python",
   "nbconvert_exporter": "python",
   "pygments_lexer": "ipython3",
   "version": "3.12.3"
  }
 },
 "nbformat": 4,
 "nbformat_minor": 2
}
