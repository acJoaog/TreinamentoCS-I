{
 "cells": [
  {
   "cell_type": "markdown",
   "metadata": {},
   "source": [
    "# Exercício 1\n",
    "\n",
    "Na matemática, os números de Fibonacci são uma sequência ou sucessão definida como recursiva. A sequência de Fibonacci é um padrão numérico em que o primeiro e o segundo termo são iguais a 1 e cada termo a partir do terceiro é a soma dos dois termos anteriores.\n",
    "\n",
    "Os primeiros números de Fibonacci são:\n",
    "\n",
    "1, 1, 2, 3, 5, 8, 13, 21, 34, 55, 89...\n",
    "\n",
    "Crie uma função chamada fib que retorne valor da posição inserida como parâmetro. Exemplo fib(1) = 1, fib(2) = 1, fib(3) = 2, fib(4) = 3, fib(5) = 5, fib(6) = 8, fib(7) = 13 ...\n",
    "\n",
    "Por fim imprima o resultado da função fib passando como parâmetro o valor 20."
   ]
  },
  {
   "cell_type": "code",
   "execution_count": null,
   "metadata": {},
   "outputs": [],
   "source": [
    "\n"
   ]
  },
  {
   "cell_type": "markdown",
   "metadata": {},
   "source": [
    "# Exercício 2\n",
    "\n",
    "Crie uma repetição que imprima a divisão de um número inteiro qualquer por numeros aleatórios de 0 a 9 até causar a exception ZeroDivisionError. Utilize estruturas de exceções para tratar o erro, quando ocorrido interrompa o loop e imprima o tipo de erro causado.\n",
    "\n",
    "x = 9\n",
    "\n",
    "Utilize a biblioteca random e sua função random.randint(0, 9) para gerar números semi-aleatorios de 0 a 9."
   ]
  },
  {
   "cell_type": "code",
   "execution_count": null,
   "metadata": {},
   "outputs": [],
   "source": [
    "import random\n"
   ]
  },
  {
   "cell_type": "markdown",
   "metadata": {},
   "source": [
    "# Exercício 3\n",
    "\n",
    "Crie uma função recursiva que calcule o fatorial de um número inteiro passado como parâmetro."
   ]
  },
  {
   "cell_type": "code",
   "execution_count": null,
   "metadata": {},
   "outputs": [],
   "source": []
  },
  {
   "cell_type": "markdown",
   "metadata": {},
   "source": [
    "# Exercício 4\n",
    "\n",
    "Dado o seguinte dicinário, contendo nome como chave e idade como valor, ordene-o de forma alfabética. Por fim imprima somente as idades do dicionario ordenado no passo anterior.\n",
    "\n",
    "pessoa = [('Alice', 27), ('Eduardo', 12), ('Davi', 40), ('Gabriel',18) ,('Júlia', 23)]"
   ]
  },
  {
   "cell_type": "code",
   "execution_count": null,
   "metadata": {},
   "outputs": [],
   "source": []
  }
 ],
 "metadata": {
  "kernelspec": {
   "display_name": "Python 3",
   "language": "python",
   "name": "python3"
  },
  "language_info": {
   "name": "python",
   "version": "3.12.3"
  }
 },
 "nbformat": 4,
 "nbformat_minor": 2
}
