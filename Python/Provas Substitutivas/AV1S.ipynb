{
 "cells": [
  {
   "cell_type": "markdown",
   "metadata": {},
   "source": [
    "# Exercício 1\n",
    "\n",
    "Utilizando estruturas de repetição insira nove elementos em uma lista. Esses nove elementos devem ser os quadrados dos números de 1 a 9. Após isso, utilizando estruturas de repetição, remova todos os elementos pares. Por fim imprima a lista resultante."
   ]
  },
  {
   "cell_type": "code",
   "execution_count": null,
   "metadata": {},
   "outputs": [],
   "source": [
    "\n"
   ]
  },
  {
   "cell_type": "markdown",
   "metadata": {},
   "source": [
    "# Exercício 2\n",
    "\n",
    "O dicionário abaixo contém nomes de países como chave e o nome de sua capital como valor. Utilizando estruturas de repetição percorra o dicionario e imprima somente o nome das capitais cujos países comecem com a letra M.\n",
    "\n",
    "mundo = {\"Afeganistão\":\"Cabul\",\"Hungria\":\"Budapeste\", \"Marrocos\":\"Rabat\", \"Líbano\":\"Beirute\", \"Ruanda\":\"Quigali\", \"Quirguistão\":\"Bisqueque\", \"Síria\":\"Damasco\", \"Mali\":\"Bamaco\"}\n"
   ]
  },
  {
   "cell_type": "code",
   "execution_count": null,
   "metadata": {},
   "outputs": [],
   "source": [
    "mundo = {\"Afeganistão\":\"Cabul\",\"Hungria\":\"Budapeste\", \"Marrocos\":\"Rabat\", \"Líbano\":\"Beirute\", \"Ruanda\":\"Quigali\", \"Quirguistão\":\"Bisqueque\", \"Síria\":\"Damasco\", \"Mali\":\"Bamaco\"}"
   ]
  },
  {
   "cell_type": "markdown",
   "metadata": {},
   "source": [
    "# Exercício 3\n",
    "\n",
    "Dada a tupla, verifique se o elemento 'c' está presente na tupla e imprima uma mensagem adequada.\n",
    "\n",
    "tupla = ('a', 'b', 'c', 'd', 'e')"
   ]
  },
  {
   "cell_type": "code",
   "execution_count": null,
   "metadata": {},
   "outputs": [],
   "source": [
    "tupla = ('a', 'b', 'c', 'd', 'e')"
   ]
  },
  {
   "cell_type": "markdown",
   "metadata": {},
   "source": [
    "# Exercício 4\n",
    "\n",
    "Escreva uma função que receba uma lista strings e remova todos os itens que não contenham o caractere \"$\". Imprima o resultado da função criada passando como parâmetro a lista abaixo.\n",
    "\n",
    "lista = [\"dase$asd\",\"asbvdfgh\",\"ikmtbi$oxcv\",\"xaplc=xc\",\"sfasdft vs\",\"lm$aas-\",\"asdasnzod\",\"p.xopsf$\"]"
   ]
  },
  {
   "cell_type": "code",
   "execution_count": 8,
   "metadata": {},
   "outputs": [],
   "source": [
    "lista = [\"dase$asd\",\"asbvdfgh\",\"ikmtbi$oxcv\",\"xaplc=xc\",\"sfasdft vs\",\"lm$aas-\",\"asdasnzod\",\"p.xopsf$\"]\n"
   ]
  }
 ],
 "metadata": {
  "kernelspec": {
   "display_name": "Python 3",
   "language": "python",
   "name": "python3"
  },
  "language_info": {
   "codemirror_mode": {
    "name": "ipython",
    "version": 3
   },
   "file_extension": ".py",
   "mimetype": "text/x-python",
   "name": "python",
   "nbconvert_exporter": "python",
   "pygments_lexer": "ipython3",
   "version": "3.12.3"
  }
 },
 "nbformat": 4,
 "nbformat_minor": 2
}
