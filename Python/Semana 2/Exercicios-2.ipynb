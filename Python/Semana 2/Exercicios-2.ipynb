{
 "cells": [
  {
   "cell_type": "markdown",
   "metadata": {},
   "source": [
    "Exercício 1-\n",
    "\n",
    "Utilizando a biblioteca random insira 10 elementos inteiros aleatorios de -10 a 10 em duas tuplas. Após isso percorra os respectivos elementos fazendo a divisão da tupla1[n]/tupla2[n], com n assumindo o índice de 0 a 9. Imprima o resultado das operações, esperando que o número zero pode aparecer dentro da tupla2, implemente uma estrutura de tratamento de erro para a situação descrita."
   ]
  },
  {
   "cell_type": "code",
   "execution_count": null,
   "metadata": {},
   "outputs": [],
   "source": [
    "import random\n",
    "\n",
    "# Gerar 10 elementos inteiros aleatórios para cada tupla\n",
    "tupla1 = tuple(random.randint(-10, 10) for _ in range(10))\n",
    "tupla2 = tuple(random.randint(-10, 10) for _ in range(10))\n",
    "\n",
    "for a,b in zip(tupla1,tupla2):\n",
    "    try:\n",
    "        print(f\"({a})/({b})={a/b}\")\n",
    "    except ZeroDivisionError:\n",
    "        print(\"Erro, divisão por zero.\")"
   ]
  },
  {
   "cell_type": "markdown",
   "metadata": {},
   "source": [
    "Exercício 2-\n",
    "\n",
    "Desenvolva uma função que receba n argumentos e imprima a multiplicação de todos os elementos recebidos."
   ]
  },
  {
   "cell_type": "code",
   "execution_count": null,
   "metadata": {},
   "outputs": [],
   "source": [
    "def multiplica(*args):\n",
    "    resultado = 1\n",
    "    for n in args:\n",
    "        resultado *= n\n",
    "    print(resultado)\n",
    "\n",
    "multiplica(1,2,3,4,5,6,7,8,9)"
   ]
  },
  {
   "cell_type": "markdown",
   "metadata": {},
   "source": [
    "Exercício 3-\n",
    "\n",
    "Dado o seguinte dicinário, contendo nome como chave e idade como valor, ordene-o de forma reversa utilizando nome como parâmetro, ou seja, coloque-o em ordem alfabética reversa. Utilize uma função lambda (anônima) para realizar essa operação.\n",
    "\n",
    "*Dica utilize a estrutura da função padrão 'sorted()'"
   ]
  },
  {
   "cell_type": "code",
   "execution_count": null,
   "metadata": {},
   "outputs": [],
   "source": [
    "pessoa = [('Alice', 27), ('Eduardo', 12), ('Davi', 40), ('Gabriel',18) ,('Júlia', 23)]\n",
    "\n",
    "pessoa = sorted(pessoa, key=lambda x: x[0], reverse=True)\n",
    "print(pessoa)"
   ]
  },
  {
   "cell_type": "markdown",
   "metadata": {},
   "source": [
    "Exercício 4-\n",
    "\n",
    "A variavel lista contém números inteiros variados. Utilize uma função para imprimir o quadrado de cada elemento, caso o elemento da lista for um número primo lançe uma exceção personalizada chamada 'NumeroPrimo'."
   ]
  },
  {
   "cell_type": "code",
   "execution_count": 3,
   "metadata": {},
   "outputs": [
    {
     "name": "stdout",
     "output_type": "stream",
     "text": [
      "16\n",
      "36\n",
      "64\n",
      "81\n",
      "100\n",
      "Numero primo detectado NumeroPrimo\n",
      "196\n"
     ]
    }
   ],
   "source": [
    "lista = [4,6,8,9,10,11,14]\n",
    "\n",
    "def verifica_primo(num):\n",
    "    if num <= 1:\n",
    "        return False\n",
    "    elif num == 2:\n",
    "        raise Exception('NumeroPrimo')\n",
    "    elif num % 2 == 0:\n",
    "        return False\n",
    "    else:\n",
    "        for i in range(3, int(num**0.5) + 1, 2):\n",
    "            if num % i == 0:\n",
    "                return False\n",
    "        raise Exception('NumeroPrimo')\n",
    "\n",
    "def quad(x):\n",
    "    return x*x\n",
    "\n",
    "for n in lista:\n",
    "    try:\n",
    "        if verifica_primo(n) == False:\n",
    "            print(quad(n))\n",
    "    except Exception as e:\n",
    "        print('Numero primo detectado',e)\n",
    "\n",
    "\n"
   ]
  }
 ],
 "metadata": {
  "kernelspec": {
   "display_name": "Python 3",
   "language": "python",
   "name": "python3"
  },
  "language_info": {
   "codemirror_mode": {
    "name": "ipython",
    "version": 3
   },
   "file_extension": ".py",
   "mimetype": "text/x-python",
   "name": "python",
   "nbconvert_exporter": "python",
   "pygments_lexer": "ipython3",
   "version": "3.12.3"
  }
 },
 "nbformat": 4,
 "nbformat_minor": 2
}
