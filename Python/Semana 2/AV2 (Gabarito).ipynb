{
 "cells": [
  {
   "cell_type": "markdown",
   "metadata": {
    "tags": [
     "parameters"
    ]
   },
   "source": [
    "# Exercício 1\n",
    "\n",
    "O seguinte dicionário representa municípios e o número de sua população. Através de estruturas de repetições percorra suas informações e faça alterações no dicionário de acordo com as questões abaixo."
   ]
  },
  {
   "cell_type": "code",
   "execution_count": 21,
   "metadata": {},
   "outputs": [],
   "source": [
    "cidades = {'Campo Grande':898100,'São Paulo':11451999,'Uberlândia':713224,'Niterói':481749,'Recife':1488920,'Porto Alegre':1332845,'Osasco':728615,'Rio de Janeiro':6211223}"
   ]
  },
  {
   "cell_type": "markdown",
   "metadata": {},
   "source": [
    "A) \n",
    "Faça uma função que receba um dicionario como parâmetro. Essa função deve imprimir a média da população contida no dicionario recebido. Chame a função criada e passe o dicionário cidades como parâmetro."
   ]
  },
  {
   "cell_type": "code",
   "execution_count": 22,
   "metadata": {},
   "outputs": [
    {
     "name": "stdout",
     "output_type": "stream",
     "text": [
      "2913334.375\n"
     ]
    }
   ],
   "source": [
    "def media(dicionario):\n",
    "    soma = 0\n",
    "    for populacao in cidades.values():\n",
    "        soma += populacao\n",
    "    print(soma/len(dicionario))\n",
    "\n",
    "media(cidades)"
   ]
  },
  {
   "cell_type": "markdown",
   "metadata": {},
   "source": [
    "B) Utilizando um for iterativo remova da variável dicionário todas as cidades cuja populção seja inferior a 1000000 de habitantes. Após isso imprima a variável cidades resultante em ordem alfabética.\n",
    "\n",
    "*Dica utilize a seguinte função para organizar o dicionario:\n",
    "\n",
    "sorted(dicionario.items())"
   ]
  },
  {
   "cell_type": "code",
   "execution_count": 23,
   "metadata": {},
   "outputs": [
    {
     "name": "stdout",
     "output_type": "stream",
     "text": [
      "[('Porto Alegre', 1332845), ('Recife', 1488920), ('Rio de Janeiro', 6211223), ('São Paulo', 11451999)]\n"
     ]
    }
   ],
   "source": [
    "for cidade,populacao in cidades.copy().items():\n",
    "    if populacao < 1000000:\n",
    "        del cidades[cidade]\n",
    "\n",
    "print(sorted(cidades.items()))"
   ]
  },
  {
   "cell_type": "markdown",
   "metadata": {},
   "source": [
    "# Exercício 2\n",
    "\n",
    "Na matemática, os números de Fibonacci são uma sequência ou sucessão definida como recursiva. A sequência de Fibonacci é um padrão numérico em que o primeiro e o segundo termo são iguais a 1 e cada termo a partir do terceiro é a soma dos dois termos anteriores.\n",
    "\n",
    "Os primeiros números de Fibonacci são:\n",
    "\n",
    "1, 1, 2, 3, 5, 8, 13, 21, 34, 55, 89...\n",
    "\n",
    "Crie uma função chamada fib que retorne valor da posição inserida como parâmetro. Exemplo fib(1) = 1, fib(2) = 1, fib(3) = 2, fib(4) = 3, fib(5) = 5, fib(6) = 8, fib(7) = 13 ...\n",
    "\n",
    "Por fim imprima o resultado da função fib passando como parâmetro o valor 20."
   ]
  },
  {
   "cell_type": "code",
   "execution_count": 24,
   "metadata": {},
   "outputs": [
    {
     "name": "stdout",
     "output_type": "stream",
     "text": [
      "6765\n"
     ]
    }
   ],
   "source": [
    "def fib(n):\n",
    "    contador = 0\n",
    "    a, b = 0, 1\n",
    "    while contador < n:\n",
    "        a, b = b, a+b\n",
    "        contador += 1\n",
    "    return a\n",
    "        \n",
    "        \n",
    "print(fib(20))\n"
   ]
  },
  {
   "cell_type": "markdown",
   "metadata": {},
   "source": [
    "# Exercício 3\n",
    "\n",
    "A seguinte lista contem e-mails fictícios de funcionários do Inatel. Percorra a lista e lançe uma Exception possuindo o argumento 'e-mail inválido' toda vez que for encontrado um e-mail inválido. O critério de e-mail inválido é não possuir o endereçamento '@inatel.br', ou seja, causar erro caso o e-mail da pessoa não possuir '@inatel.br'. Lembre-se de utilizar estruturas para lidar com as exceptions, o código deve continuar mesmo após ocorrer erros.\n",
    "\n",
    "Exemplo de e-mail válido: 'fulano@inatel.br'\n",
    "\n",
    "Exemplo de e-mail inválido: 'fulano@yahoo.com'\n",
    "\n",
    "*Dica: Utilize a função find() para verificar conteúdos de strings\n",
    "\n",
    "Percorra toda a lista e caso uma exception seja acionada remova o e-mail da lista e imprima a exceção e o e-mail inválido na estrutura except. Por fim imprima a lista resultante."
   ]
  },
  {
   "cell_type": "code",
   "execution_count": 25,
   "metadata": {},
   "outputs": [
    {
     "name": "stdout",
     "output_type": "stream",
     "text": [
      "e-mail inválido janaina@inateI.br\n",
      "e-mail inválido pedro@robotbulls.br\n",
      "e-mail inválido marcio@inatel.com\n",
      "e-mail inválido joao@ges.inatel.br\n",
      "e-mail inválido eduardo@gmail.com\n",
      "['ademir@inatel.br', 'bruna@inatel.br', 'edmilson@inatel.br', 'evandro@inatel.br']\n"
     ]
    }
   ],
   "source": [
    "lista = ['ademir@inatel.br','janaina@inateI.br','bruna@inatel.br','pedro@robotbulls.br','marcio@inatel.com','edmilson@inatel.br','joao@ges.inatel.br','evandro@inatel.br','eduardo@gmail.com']\n",
    "\n",
    "for email in lista.copy():\n",
    "    try:\n",
    "        if email.find('@inatel.br') == -1:\n",
    "            raise Exception('e-mail inválido')  \n",
    "    except Exception as e:\n",
    "        lista.remove(email)\n",
    "        print(e,email)\n",
    "\n",
    "print(lista)\n",
    "    "
   ]
  },
  {
   "cell_type": "markdown",
   "metadata": {},
   "source": [
    "# Exercício 4\n",
    "\n",
    "Crie uma repetição que imprima a divisão da variavel x por numeros aleatórios de 0 a 9 até causar a exception ZeroDivisionError. Utilize estruturas de exceções para tratar o erro, quando ocorrido interrompa o loop e imprima o tipo de erro causado.\n",
    "\n",
    "Utilize a biblioteca random e sua função random.randint(0, 9) para gerar números semi-aleatorios de 0 a 9."
   ]
  },
  {
   "cell_type": "code",
   "execution_count": 26,
   "metadata": {},
   "outputs": [
    {
     "name": "stdout",
     "output_type": "stream",
     "text": [
      "3.0\n",
      "1.8\n",
      "1.2857142857142858\n",
      "1.5\n",
      "1.2857142857142858\n",
      "4.5\n",
      "1.0\n",
      "3.0\n",
      "4.5\n",
      "division by zero\n"
     ]
    }
   ],
   "source": [
    "import random\n",
    "\n",
    "x = 9\n",
    "\n",
    "while True:\n",
    "    try:\n",
    "        print(x/random.randint(0, 9))\n",
    "    except ZeroDivisionError as e:\n",
    "        print(e)\n",
    "        break\n",
    "        "
   ]
  }
 ],
 "metadata": {
  "kernelspec": {
   "display_name": "Python 3",
   "language": "python",
   "name": "python3"
  },
  "language_info": {
   "codemirror_mode": {
    "name": "ipython",
    "version": 3
   },
   "file_extension": ".py",
   "mimetype": "text/x-python",
   "name": "python",
   "nbconvert_exporter": "python",
   "pygments_lexer": "ipython3",
   "version": "3.12.3"
  }
 },
 "nbformat": 4,
 "nbformat_minor": 2
}
