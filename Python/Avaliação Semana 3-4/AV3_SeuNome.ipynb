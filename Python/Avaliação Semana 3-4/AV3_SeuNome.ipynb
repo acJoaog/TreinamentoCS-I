{
 "cells": [
  {
   "cell_type": "markdown",
   "metadata": {},
   "source": [
    "# Exercício 1 (40 pontos)\n",
    "\n",
    "Crie uma classe abstrata Salario, que possua o método abstrato calcula_salario e como atributos nome, horas_trabalhadas e cpf. Todos os atributos devem ser encapsulados. Agora crie duas classes filhas de Salario, respectivamente crie ContaComum e ContaGerente. Na ContaComum o método abstrato herdado deve retornar a quantidade de (horas_trabalhadas*15) e a ContaGerente deve retornar o cálculo do salário como (horas_trabalhadas*20). Por fim crie pelo menos um objeto de cada classe filha e chame seu método calcula_salario()."
   ]
  },
  {
   "cell_type": "code",
   "execution_count": null,
   "metadata": {},
   "outputs": [],
   "source": []
  },
  {
   "cell_type": "markdown",
   "metadata": {},
   "source": [
    "# Exercício 2 (30 pontos)\n",
    "\n",
    "Crie uma Classe chamada Pessoa que possua nome e idade como atributos. Após isso instancie 5 pessoas com idades diferentes. Agora escreva uma função chamada encontra_mais_velho que recebe uma lista de objetos da Classe Pessoa. A função deve retornar o nome da pessoa mais velha. Por fim imprima o resultado da função criada passando como parâmetro a lista de pessoas criada por você."
   ]
  },
  {
   "cell_type": "code",
   "execution_count": null,
   "metadata": {},
   "outputs": [],
   "source": []
  },
  {
   "cell_type": "markdown",
   "metadata": {},
   "source": [
    "# Exercício 3 (30 pontos)\n",
    "\n",
    "Siga os passos abaixo.\n",
    "\n",
    "Criar uma classe abstrata Animal com os atributos:\n",
    "\n",
    "nome: Nome do animal (string).\n",
    "especie: Espécie do animal (string).\n",
    "\n",
    "Definir um método abstrato emitir_som() na classe Animal.\n",
    "\n",
    "Criar classes filhas herdeiras de Animal:\n",
    "\n",
    "Cachorro: Possui o atributo raca (string).\n",
    "Gato: Possui o atributo cor (string).\n",
    "Ave: Possui o atributo tipo_ave (string).\n",
    "\n",
    "*Não esqueça de utilizar o métod super().__init__() para adicionar os atributos específicos de cada classe herdeira\n",
    "\n",
    "Implementar o método emitir_som() em cada classe filha, sobrescrevendo o método da classe pai para retornar sons específicos de cada animal (por exemplo, \"Au au\" para cachorro, \"Miau\" para gato e \"Piar\" para ave).\n",
    "\n",
    "Criar um objeto de cada classe filha (cachorro, gato e ave) e armazená-los em uma lista.\n",
    "\n",
    "Por fim percorra a lista e chame o método emitir_som() para cada animal, observando como cada um emite seu som característico."
   ]
  },
  {
   "cell_type": "code",
   "execution_count": null,
   "metadata": {},
   "outputs": [],
   "source": []
  }
 ],
 "metadata": {
  "kernelspec": {
   "display_name": "Python 3",
   "language": "python",
   "name": "python3"
  },
  "language_info": {
   "codemirror_mode": {
    "name": "ipython",
    "version": 3
   },
   "file_extension": ".py",
   "mimetype": "text/x-python",
   "name": "python",
   "nbconvert_exporter": "python",
   "pygments_lexer": "ipython3",
   "version": "3.12.3"
  }
 },
 "nbformat": 4,
 "nbformat_minor": 2
}
