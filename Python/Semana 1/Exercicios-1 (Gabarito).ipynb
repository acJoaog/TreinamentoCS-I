{
 "cells": [
  {
   "cell_type": "markdown",
   "metadata": {},
   "source": [
    "Exercício 1 \n",
    "\n",
    "A variável msg contem um JSON de informações de um cadastro, utilize um dicionario para armazenar dentro de uma nova variável chamada pessoa. Após isso imprima o valor de suas chaves com os respectivos valores dentro de uma estrutura de repetição iterativa.\n",
    "\n",
    "Dica - utilize o import json para converter uma string json em um dicionario"
   ]
  },
  {
   "cell_type": "code",
   "execution_count": 16,
   "metadata": {},
   "outputs": [
    {
     "name": "stdout",
     "output_type": "stream",
     "text": [
      "{'usuario': 'Jailson', 'senha': 'coxinha123', 'cidade': 'São Paulo', 'telefone': '(35) 98811-6644'}\n",
      "<class 'dict'>\n",
      "Chave: usuario, Valor: Jailson\n",
      "Chave: senha, Valor: coxinha123\n",
      "Chave: cidade, Valor: São Paulo\n",
      "Chave: telefone, Valor: (35) 98811-6644\n"
     ]
    }
   ],
   "source": [
    "import json\n",
    "\n",
    "# String JSON\n",
    "msg = '{\"usuario\": \"Jailson\", \"senha\": \"coxinha123\", \"cidade\": \"São Paulo\", \"telefone\": \"(35) 98811-6644\"}'\n",
    "\n",
    "# Convertendo a string JSON para um dicionário\n",
    "dicionario = json.loads(msg)\n",
    "\n",
    "print(dicionario) \n",
    "print(type(dicionario))  \n",
    "\n",
    "pessoa = dicionario\n",
    "for chave, valor in pessoa.items():\n",
    "    print(f\"Chave: {chave}, Valor: {valor}\")"
   ]
  },
  {
   "cell_type": "markdown",
   "metadata": {},
   "source": [
    "Exercício 2\n",
    "\n",
    "Utilizando as seguintes variáveis strings que possuem o mesmo número de caracteres construa uma estrutura de condição iterativa que compare seus respectivos caracteres de acordo com a iteração. Exemplo, comparar primeiro caractere com o primeiro de cada string, o segundo com o segundo e assim por diante. Ao satisfazer a condição imprimir o valordo caractere e sua posição na string."
   ]
  },
  {
   "cell_type": "code",
   "execution_count": 15,
   "metadata": {},
   "outputs": [
    {
     "name": "stdout",
     "output_type": "stream",
     "text": [
      "O 0\n",
      "  1\n",
      "r 7\n",
      "a 12\n",
      "o 19\n"
     ]
    }
   ],
   "source": [
    "string1 = \"O cachorro late alto\"\n",
    "string2 = \"O pássaro voa rápido\"\n",
    "\n",
    "for i in range(0,len(string1)):\n",
    "    if(string1[i] == string2[i]):\n",
    "        print(string1[i],i)"
   ]
  },
  {
   "cell_type": "markdown",
   "metadata": {},
   "source": [
    "Exercício 3\n",
    "\n",
    "Utilize seus conhecimentos para criar uma API. Faça uma estrutura de condição que compare duas variaveis, a primeira deve se chamar user e a segunda password, essas variáveis devem receber seus valores através de um input, após isso compare com as respectivas chaves do dicionário pessoa. Imprima os possiveis resultados, login aprovado, usuário incorreto ou senha incorreta."
   ]
  },
  {
   "cell_type": "code",
   "execution_count": 19,
   "metadata": {},
   "outputs": [
    {
     "name": "stdout",
     "output_type": "stream",
     "text": [
      "usuário incorreto\n"
     ]
    }
   ],
   "source": [
    "conta = {'user':'admin','password':'WhoAmI#2024'}\n",
    "\n",
    "user = input('user:')\n",
    "password = input('password:')\n",
    "\n",
    "if(user == conta[\"user\"]):\n",
    "    if(password == conta[\"password\"]):\n",
    "        print('login aprovado')\n",
    "    else:\n",
    "        print('senha incorreta')\n",
    "else:\n",
    "    print('usuário incorreto')"
   ]
  },
  {
   "cell_type": "markdown",
   "metadata": {},
   "source": [
    "Exercício 4\n",
    "\n",
    "Utilize um for iterativo para percorrer a lista abaixo, dentro do for construa uma estrutura de comparação que adicione a uma nova lista os valores que sejam do tipo string, após isso imprima a nova lista."
   ]
  },
  {
   "cell_type": "code",
   "execution_count": 39,
   "metadata": {},
   "outputs": [
    {
     "name": "stdout",
     "output_type": "stream",
     "text": [
      "['H', 'e', 'l', 'l', 'o', 'W', 'o', 'r', 'l', 'd', '!']\n"
     ]
    }
   ],
   "source": [
    "lista = [0.4, 0.2, 'H', 2, 1, 0, 'e', 'l', 5, 2.4, 'l', 'o', 2, 9, 'W', 2, 7, 'o', 5, 3, 'r', 'l', 0, 2, 'd', 8, '!', 5 ,7]\n",
    "\n",
    "nova_lista = []\n",
    "\n",
    "for x in lista:\n",
    "    if isinstance(x,str):\n",
    "        nova_lista.append(x)\n",
    "\n",
    "print(nova_lista)      "
   ]
  },
  {
   "cell_type": "markdown",
   "metadata": {},
   "source": [
    "Exercício 5\n",
    "\n",
    "Utilizando os métodos de listas organize a lista alfabeto. Após isso remova todas as vogais da variável alfabeto utilizando um for iterativo dentro da lista vogais. Por fim imprima a lista alfabeto respectivamente sem as vogais e em ordem alfabética."
   ]
  },
  {
   "cell_type": "code",
   "execution_count": 46,
   "metadata": {},
   "outputs": [
    {
     "name": "stdout",
     "output_type": "stream",
     "text": [
      "['b', 'c', 'd', 'f', 'g', 'h', 'j', 'k', 'l', 'm', 'n', 'p', 'q', 'r', 's', 't', 'v', 'w', 'x', 'y', 'z']\n"
     ]
    }
   ],
   "source": [
    "alfabeto = ['i', 'v', 'n', 'g', 'j', 'q', 'b', 'm', 'f', 'u', 's', 'k', 'w', 'y', 'z', 'o', 'd', 'r', 'c', 't', 'x', 'h', 'e', 'p', 'l', 'a']\n",
    "vogais = ['a','e','i','o','u']\n",
    "\n",
    "alfabeto.sort()\n",
    "\n",
    "for x in vogais:\n",
    "    alfabeto.remove(x)\n",
    "\n",
    "print(alfabeto)"
   ]
  },
  {
   "cell_type": "markdown",
   "metadata": {},
   "source": [
    "Exercício 6\n",
    "\n",
    "Dados os seguintes conjuntos calcule e imprima a união e interseção. Por fim imprima a diferença entre a união e interseção."
   ]
  },
  {
   "cell_type": "code",
   "execution_count": 49,
   "metadata": {},
   "outputs": [
    {
     "name": "stdout",
     "output_type": "stream",
     "text": [
      "{'c', 'd', 'a', 'e', 'f', 'g', 'b'}\n",
      "{'c', 'e', 'd'}\n",
      "{'b', 'g', 'a', 'f'}\n"
     ]
    }
   ],
   "source": [
    "conj1 = {'a','b','c','d','e'}\n",
    "conj2 = {'c','d','e','f','g'}\n",
    "\n",
    "u = conj1.union(conj2)\n",
    "i = conj1.intersection(conj2)\n",
    "d = u.difference(i)\n",
    "\n",
    "print(u)\n",
    "print(i)\n",
    "print(d)"
   ]
  }
 ],
 "metadata": {
  "kernelspec": {
   "display_name": "Python 3",
   "language": "python",
   "name": "python3"
  },
  "language_info": {
   "codemirror_mode": {
    "name": "ipython",
    "version": 3
   },
   "file_extension": ".py",
   "mimetype": "text/x-python",
   "name": "python",
   "nbconvert_exporter": "python",
   "pygments_lexer": "ipython3",
   "version": "3.12.3"
  }
 },
 "nbformat": 4,
 "nbformat_minor": 2
}
