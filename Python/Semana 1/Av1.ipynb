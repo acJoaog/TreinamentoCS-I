{
 "cells": [
  {
   "cell_type": "markdown",
   "metadata": {},
   "source": [
    "Exercício 1-\n",
    "\n",
    "Utilizando estruturas de repetição insira nove elementos em uma lista. Esses nove elementos devem ser os quadrados dos números de 1 a 9. Após isso, utilizando estruturas de repetição, remova todos os elementos pares. Por fim imprima a lista resultante."
   ]
  },
  {
   "cell_type": "code",
   "execution_count": null,
   "metadata": {},
   "outputs": [],
   "source": [
    "\n"
   ]
  },
  {
   "cell_type": "markdown",
   "metadata": {},
   "source": [
    "Exercício 2-\n",
    "\n",
    "Dada as strings de conjunto abaixo extraia todos os números utilizando métodos de manipulção string e casting de variaveis para inserir em duas novas variaveis de conjunto seus respectivos elementos. Por fim imprima a união das duas variáveis de conjuntos criadas.\n",
    "\n",
    "c1 = \"3,7,5,1,9\"\n",
    "c2 = \"6,8,2,4,0\"\n",
    "\n",
    "Dica: utilize a seguinte expressão para declarar um conjunto vazio\n",
    "\n",
    "conjunto = set()\n",
    "\n",
    "c1 = \"3,7,5,1,9\"\n",
    "\n",
    "c2 = \"6,8,2,4,0\""
   ]
  },
  {
   "cell_type": "code",
   "execution_count": null,
   "metadata": {},
   "outputs": [],
   "source": [
    "c1 = \"3,7,5,1,9\"\n",
    "c2 = \"6,8,2,4,0\"\n"
   ]
  },
  {
   "cell_type": "markdown",
   "metadata": {},
   "source": [
    "Exercício 3-\n",
    "\n",
    "O dicionário abaixo contém nomes de países como chave e o nome de sua capital como valor. Utilizando estruturas de repetição percorra o dicionario e imprima somente o nome de países que a capital comece com a letra B.\n",
    "\n",
    "mundo = {\"Afeganistão\":\"Cabul\",\"Hungria\":\"Budapeste\", \"Marrocos\":\"Rabat\", \"Líbano\":\"Beirute\", \"Ruanda\":\"Quigali\", \"Quirguistão\":\"Bisqueque\", \"Síria\":\"Damasco\", \"Mali\":\"Bamaco\"}"
   ]
  },
  {
   "cell_type": "code",
   "execution_count": null,
   "metadata": {},
   "outputs": [],
   "source": [
    "mundo = {\"Afeganistão\":\"Cabul\",\"Hungria\":\"Budapeste\", \"Marrocos\":\"Rabat\", \"Líbano\":\"Beirute\", \"Ruanda\":\"Quigali\", \"Quirguistão\":\"Bisqueque\", \"Síria\":\"Damasco\", \"Mali\":\"Bamaco\"}\n"
   ]
  },
  {
   "cell_type": "markdown",
   "metadata": {},
   "source": [
    "Exercício 4-\n",
    "\n",
    "A string abaixo está criptografada pelo dicionario chamado key, utilize estruturas de repetição para descriptografar a mensagem. Cada caractere da string fornecida corresponde a um valor no dicionario key. Utilize uma repetição dupla para transformar os caracteres da string pelo valor correspondente no dicionario key. Imprima a mensagem descriptografada. \n",
    "\n",
    "Dica, utilize uma string vazia para somar os caracteres traduzidos do dicionario.\n",
    "\n",
    "*Para descriptografar a mensagem altere cada caractere da mensagem_criptografada pelo valor da chave correspondente ao dicionario key.\n",
    "\n",
    "key = {'p': 'l', 'h': 'r', 'a': 'l', 'f': '.', 'g': 't', 'c': 'e', 'v': 'À', 'e': 'g', 'y': ',', 'b': 'i', 'r': 'o', 'u': 'y', 'l': 'm', 'k': 'b', 'd': 'ã', 't': 'p', 'o': 'c', 'q': 'a', 'z': 'n', 'n': 'u', 'w': 's', 'j': ' ', 's': 'z', 'x': 'v', 'i': 'w', 'm': 'd'}\n",
    "\n",
    "mensagem_criptografada = \"vwjxcscwyjqwjtchenzgqwjwdrjorltpboqmqwjcjqwjhcwtrwgqwjwdrjwbltpcwf\""
   ]
  },
  {
   "cell_type": "code",
   "execution_count": null,
   "metadata": {},
   "outputs": [],
   "source": [
    "key = {'p': 'l', 'h': 'r', 'a': 'l', 'f': '.', 'g': 't', 'c': 'e', 'v': 'À', 'e': 'g', 'y': ',', 'b': 'i', 'r': 'o', 'u': 'y', 'l': 'm', 'k': 'b', 'd': 'ã', 't': 'p', 'o': 'c', 'q': 'a', 'z': 'n', 'n': 'u', 'w': 's', 'j': ' ', 's': 'z', 'x': 'v', 'i': 'w', 'm': 'd'}\n",
    "\n",
    "mensagem_criptografada = \"vwjxcscwyjqwjtchenzgqwjwdrjorltpboqmqwjcjqwjhcwtrwgqwjwdrjwbltpcwf\"\n",
    "\n",
    "mensagem_descriptografada = \"\"\n",
    "   "
   ]
  }
 ],
 "metadata": {
  "kernelspec": {
   "display_name": "Python 3",
   "language": "python",
   "name": "python3"
  },
  "language_info": {
   "codemirror_mode": {
    "name": "ipython",
    "version": 3
   },
   "file_extension": ".py",
   "mimetype": "text/x-python",
   "name": "python",
   "nbconvert_exporter": "python",
   "pygments_lexer": "ipython3",
   "version": "3.12.3"
  }
 },
 "nbformat": 4,
 "nbformat_minor": 2
}
