{
 "cells": [
  {
   "cell_type": "markdown",
   "metadata": {},
   "source": [
    "Variáveis, tipos de dados e operadores."
   ]
  },
  {
   "cell_type": "code",
   "execution_count": 143,
   "metadata": {},
   "outputs": [
    {
     "name": "stdout",
     "output_type": "stream",
     "text": [
      "<class 'int'>\n",
      "<class 'str'>\n",
      "Tipo da variável: <class 'float'> | Valor de z1: 0.55\n",
      "<class 'float'>\n",
      "Tipo da variável: <class 'str'> | Valor de z1: 0.55\n",
      "Tipo da variável: <class 'int'> | Valor de z: 0\n",
      "1\n",
      "3.0\n",
      "0.3333333333333333\n",
      "ab\n",
      "aaaaaaaa\n"
     ]
    }
   ],
   "source": [
    "#Verificando tipos\n",
    "x = 1\n",
    "print(type(x))\n",
    "\n",
    "#Exemplos de casting (um tipo para outro)\n",
    "y = str(1)\n",
    "print(type(y))\n",
    "\n",
    "a = '0.55'\n",
    "b = float(a)\n",
    "print(f\"Tipo da variável: {type(b)} | Valor de z1: {b}\")\n",
    "\n",
    "z = 0.55\n",
    "print(type(z))\n",
    "z1 = str (z)\n",
    "print(f\"Tipo da variável: {type(z1)} | Valor de z1: {z1}\")\n",
    "z = int(z)\n",
    "print(f\"Tipo da variável: {type(z)} | Valor de z: {z}\")\n",
    "\n",
    "#Operadores\n",
    "x = 1+1-1\n",
    "y = 1*2/2*3\n",
    "z = (1*2)/(2*3)\n",
    "\n",
    "print(x)\n",
    "print(y)\n",
    "print(z)\n",
    "print('a'+'b')\n",
    "print('a'*8)"
   ]
  },
  {
   "cell_type": "markdown",
   "metadata": {},
   "source": [
    "String (declaração, manipulação básica e métodos para manipulação)."
   ]
  },
  {
   "cell_type": "code",
   "execution_count": 12,
   "metadata": {},
   "outputs": [
    {
     "name": "stdout",
     "output_type": "stream",
     "text": [
      "Hello World!!dlroW olleH\n"
     ]
    }
   ],
   "source": [
    "#Declarando uma string\n",
    "string1 = 'Hello World!'\n",
    "string2 = \"!dlroW olleH\"\n",
    "\n",
    "#Imprimindo valor\n",
    "print (string1 + string2)"
   ]
  },
  {
   "cell_type": "markdown",
   "metadata": {},
   "source": [
    "Funções da string"
   ]
  },
  {
   "cell_type": "code",
   "execution_count": 14,
   "metadata": {},
   "outputs": [
    {
     "name": "stdout",
     "output_type": "stream",
     "text": [
      "TópicoPrincipal\n",
      "SubTópico1\n",
      "SubSubTópico1\n"
     ]
    }
   ],
   "source": [
    "#Split\n",
    "string = \"TópicoPrincipal/SubTópico1/SubSubTópico1\"\n",
    "topicos = string.split('/')\n",
    "\n",
    "print(topicos[0])\n",
    "print(topicos[1])\n",
    "print(topicos[2])"
   ]
  },
  {
   "cell_type": "code",
   "execution_count": 32,
   "metadata": {},
   "outputs": [
    {
     "name": "stdout",
     "output_type": "stream",
     "text": [
      "SOMOS FEITOS POR NOSSAS ESCOLHAS\n",
      "somos feitos por nossas escolhas\n",
      "13\n",
      "Olá, meu nome é João, tenho 21 anos e minha altura é 1.81 metros.\n"
     ]
    }
   ],
   "source": [
    "string = \"Somos feitos por nossas escolhas\"\n",
    "\n",
    "#Uper\n",
    "y = string.upper()\n",
    "print(y)\n",
    "\n",
    "#Lower\n",
    "y = y.lower()\n",
    "print(y)\n",
    "\n",
    "#Find\n",
    "x1 = string.find('p')\n",
    "x2 = string.find('y')\n",
    "print(x1)\n",
    "\n",
    "#Format\n",
    "nome = \"João\"\n",
    "idade = 21\n",
    "altura = 1.81\n",
    "\n",
    "mensagem = \"Olá, meu nome é {}, tenho {} anos e minha altura é {:.2f} metros.\".format(nome, idade, altura)\n",
    "print(mensagem)\n"
   ]
  },
  {
   "cell_type": "markdown",
   "metadata": {},
   "source": [
    "Tupla"
   ]
  },
  {
   "cell_type": "code",
   "execution_count": 55,
   "metadata": {},
   "outputs": [
    {
     "name": "stdout",
     "output_type": "stream",
     "text": [
      "(1, 2, 3, 4, 5, 6)\n",
      "(1, 2, 3, 1, 2, 3)\n"
     ]
    }
   ],
   "source": [
    "#Concatenação\n",
    "tupla1 = (1, 2, 3)\n",
    "tupla2 = (4, 5, 6)\n",
    "print(tupla1 + tupla2)\n",
    "\n",
    "#Repetição\n",
    "novaTupla = tupla1*2\n",
    "print(novaTupla)"
   ]
  },
  {
   "cell_type": "code",
   "execution_count": 56,
   "metadata": {},
   "outputs": [
    {
     "name": "stdout",
     "output_type": "stream",
     "text": [
      "a\n",
      "(1, 0.5)\n"
     ]
    }
   ],
   "source": [
    "tupla = (\"a\", 1, 0.5, \"B\", \"e\")\n",
    "print(tupla[0]) #index\n",
    "print(tupla[1:3]) #slicing"
   ]
  },
  {
   "cell_type": "markdown",
   "metadata": {},
   "source": [
    "Listas"
   ]
  },
  {
   "cell_type": "code",
   "execution_count": 62,
   "metadata": {},
   "outputs": [
    {
     "name": "stdout",
     "output_type": "stream",
     "text": [
      "[1, 2, 3, 4, 5]\n",
      "[1, '2', 3, '4.0', 5]\n",
      "9\n"
     ]
    }
   ],
   "source": [
    "#Definição\n",
    "lista1 = [1, 2, 3, 4, 5]\n",
    "lista2 = [1, \"2\", 3, '4.0', 5]\n",
    "\n",
    "print(lista1)\n",
    "print(lista2)\n",
    "\n",
    "#Mutabilidade\n",
    "lista1[0] = 9\n",
    "print(lista1[0])"
   ]
  },
  {
   "cell_type": "code",
   "execution_count": 63,
   "metadata": {},
   "outputs": [
    {
     "name": "stdout",
     "output_type": "stream",
     "text": [
      "[2, 4, 4, 5, 9]\n"
     ]
    }
   ],
   "source": [
    "#Ordenação\n",
    "lista = [5, 2, 9, 4, 4]\n",
    "lista.sort()\n",
    "print(lista)"
   ]
  },
  {
   "cell_type": "code",
   "execution_count": 65,
   "metadata": {},
   "outputs": [
    {
     "name": "stdout",
     "output_type": "stream",
     "text": [
      "1\n",
      "[2, 3]\n"
     ]
    }
   ],
   "source": [
    "#Indexação e Slicing:\n",
    "lista = [1, 2, 3, 4, 5]\n",
    "print(lista[0])    \n",
    "print(lista[1:3])  "
   ]
  },
  {
   "cell_type": "code",
   "execution_count": 66,
   "metadata": {},
   "outputs": [
    {
     "name": "stdout",
     "output_type": "stream",
     "text": [
      "[1, 2, 3, 4, 5, 6]\n",
      "[1, 2, 3, 1, 2, 3, 1, 2, 3]\n"
     ]
    }
   ],
   "source": [
    "#Operações\n",
    "lista1 = [1, 2, 3]\n",
    "lista2 = [4, 5, 6]\n",
    "\n",
    "concatenada = lista1 + lista2\n",
    "repetida = lista1 * 3\n",
    "print(concatenada)  \n",
    "print(repetida)     "
   ]
  },
  {
   "cell_type": "code",
   "execution_count": 67,
   "metadata": {},
   "outputs": [
    {
     "name": "stdout",
     "output_type": "stream",
     "text": [
      "1\n",
      "2\n",
      "3\n",
      "4\n",
      "5\n"
     ]
    }
   ],
   "source": [
    "#Iteração\n",
    "for item in lista:\n",
    "    print(item)"
   ]
  },
  {
   "cell_type": "code",
   "execution_count": 73,
   "metadata": {},
   "outputs": [
    {
     "name": "stdout",
     "output_type": "stream",
     "text": [
      "<class 'list'>\n",
      "[1, 4, 9, 16, 25, 36, 49, 64, 81, 100]\n",
      "['a1', 'a2', 'a3', 'a4', 'a5', 'a6', 'a7', 'a8', 'a9', 'a10']\n"
     ]
    }
   ],
   "source": [
    "#Utilizações avançadas\n",
    "quadrados = [x ** 2 for x in range(1, 11)]\n",
    "print(type(quadrados))\n",
    "print(quadrados)\n",
    "\n",
    "strings = ['a'+ str(x) for x in range(1, 11)]\n",
    "print(strings)"
   ]
  },
  {
   "cell_type": "code",
   "execution_count": 74,
   "metadata": {},
   "outputs": [
    {
     "name": "stdout",
     "output_type": "stream",
     "text": [
      "5\n",
      "[1, 2, 3, 4, 5, 6]\n",
      "[1, 2, 4, 5, 6]\n"
     ]
    }
   ],
   "source": [
    "#Funções e Métodos\n",
    "\n",
    "lista = [1, 2, 3, 4, 5]\n",
    "print(len(lista)) \n",
    "lista.append(6) #Inserindo\n",
    "print(lista)       \n",
    "lista.remove(3) #Remomendo\n",
    "print(lista)       "
   ]
  },
  {
   "cell_type": "markdown",
   "metadata": {},
   "source": [
    "Conjuntos"
   ]
  },
  {
   "cell_type": "code",
   "execution_count": 82,
   "metadata": {},
   "outputs": [
    {
     "name": "stdout",
     "output_type": "stream",
     "text": [
      "{1, 2, 3, 4, 5}\n"
     ]
    }
   ],
   "source": [
    "#Definição\n",
    "conjunto = {1, 2, 3, 4, 5}\n",
    "print(conjunto)"
   ]
  },
  {
   "cell_type": "code",
   "execution_count": 83,
   "metadata": {},
   "outputs": [
    {
     "name": "stdout",
     "output_type": "stream",
     "text": [
      "{1, 2, 4, 5, 6}\n"
     ]
    }
   ],
   "source": [
    "#Mutabilidade parcial\n",
    "conjunto.add(6)\n",
    "conjunto.remove(3)\n",
    "print(conjunto)"
   ]
  },
  {
   "cell_type": "code",
   "execution_count": 101,
   "metadata": {},
   "outputs": [
    {
     "name": "stdout",
     "output_type": "stream",
     "text": [
      "{1, 2, 3, 4, 5}\n",
      "{3}\n",
      "{1, 2}\n",
      "{1, 2, 4, 5}\n"
     ]
    }
   ],
   "source": [
    "#Operações de Conjunto\n",
    "\n",
    "conjunto1 = {1, 2, 3}\n",
    "conjunto2 = {3, 4, 5}\n",
    "uniao = conjunto1.union(conjunto2)\n",
    "intersecao = conjunto1.intersection(conjunto2)\n",
    "diferenca = conjunto1.difference(conjunto2)\n",
    "diferenca_simetrica = conjunto1.symmetric_difference(conjunto2)\n",
    "\n",
    "print(uniao)              \n",
    "print(intersecao)         \n",
    "print(diferenca)          \n",
    "print(diferenca_simetrica) "
   ]
  },
  {
   "cell_type": "code",
   "execution_count": 102,
   "metadata": {},
   "outputs": [
    {
     "name": "stdout",
     "output_type": "stream",
     "text": [
      "1\n",
      "2\n",
      "4\n",
      "5\n",
      "6\n"
     ]
    }
   ],
   "source": [
    "#iteração\n",
    "for elemento in conjunto:\n",
    "    print(elemento)"
   ]
  },
  {
   "cell_type": "code",
   "execution_count": 104,
   "metadata": {},
   "outputs": [
    {
     "name": "stdout",
     "output_type": "stream",
     "text": [
      "{1, 4, 9, 16, 25}\n",
      "{'c2', 'c3', 'c1', 'c4', 'c5'}\n"
     ]
    }
   ],
   "source": [
    "#Utilizações avançadas\n",
    "quadrados = {x ** 2 for x in range(1, 6)}\n",
    "print(quadrados)  # Saída: {1, 4, 9, 16, 25}\n",
    "\n",
    "strings = {'c'+str(x) for x in range(1, 6)}\n",
    "print(strings)  # Saída: {1, 4, 9, 16, 25}"
   ]
  },
  {
   "cell_type": "code",
   "execution_count": 107,
   "metadata": {},
   "outputs": [
    {
     "name": "stdout",
     "output_type": "stream",
     "text": [
      "O elemento 3 está presente no conjunto\n"
     ]
    }
   ],
   "source": [
    "#Eficiência em testes de associação\n",
    "if 2 in conjunto:\n",
    "    print(\"O elemento 3 está presente no conjunto\")"
   ]
  },
  {
   "cell_type": "code",
   "execution_count": 110,
   "metadata": {},
   "outputs": [
    {
     "name": "stdout",
     "output_type": "stream",
     "text": [
      "<class 'frozenset'>\n",
      "'frozenset' object has no attribute 'add'\n"
     ]
    }
   ],
   "source": [
    "#Conjuntos Congelados\n",
    "conjunto_congelado = frozenset(conjunto)\n",
    "print(type(conjunto_congelado))\n",
    "\n",
    "try:\n",
    "    conjunto_congelado.add(7)\n",
    "except Exception as e:\n",
    "    print(e)"
   ]
  },
  {
   "cell_type": "markdown",
   "metadata": {},
   "source": [
    "Dicionário"
   ]
  },
  {
   "cell_type": "code",
   "execution_count": 111,
   "metadata": {},
   "outputs": [],
   "source": [
    "#Definição\n",
    "dicionario = {\"a\": 1, \"b\": 2, \"c\": 3}"
   ]
  },
  {
   "cell_type": "code",
   "execution_count": 112,
   "metadata": {},
   "outputs": [
    {
     "name": "stdout",
     "output_type": "stream",
     "text": [
      "{'b': 2, 'c': 3, 'd': 4}\n"
     ]
    }
   ],
   "source": [
    "#Mutabilidade\n",
    "dicionario[\"d\"] = 4\n",
    "del dicionario[\"a\"]\n",
    "print(dicionario)"
   ]
  },
  {
   "cell_type": "code",
   "execution_count": 115,
   "metadata": {},
   "outputs": [
    {
     "name": "stdout",
     "output_type": "stream",
     "text": [
      "2\n",
      "True\n",
      "dict_keys(['b', 'c', 'd'])\n",
      "dict_values([2, 3, 4])\n"
     ]
    }
   ],
   "source": [
    "#Operações de Dicionário\n",
    "\n",
    "print(dicionario[\"b\"])     \n",
    "print(\"c\" in dicionario) \n",
    "print(dicionario.keys())   \n",
    "print(dicionario.values()) "
   ]
  },
  {
   "cell_type": "code",
   "execution_count": 116,
   "metadata": {},
   "outputs": [
    {
     "name": "stdout",
     "output_type": "stream",
     "text": [
      "b 2\n",
      "c 3\n",
      "d 4\n"
     ]
    }
   ],
   "source": [
    "#Iteração\n",
    "for chave, valor in dicionario.items():\n",
    "    print(chave, valor)"
   ]
  },
  {
   "cell_type": "code",
   "execution_count": 118,
   "metadata": {},
   "outputs": [
    {
     "name": "stdout",
     "output_type": "stream",
     "text": [
      "{1: 1, 2: 4, 3: 9, 4: 16, 5: 25}\n",
      "{1: 'd1', 2: 'd2', 3: 'd3', 4: 'd4', 5: 'd5'}\n"
     ]
    }
   ],
   "source": [
    "#Utilizações avançadas\n",
    "\n",
    "dicionario_quadrados = {x: x ** 2 for x in range(1, 6)}\n",
    "print(dicionario_quadrados)\n",
    "\n",
    "dicionario_strings = {x: 'd'+str(x) for x in range(1, 6)}\n",
    "print(dicionario_strings)"
   ]
  },
  {
   "cell_type": "markdown",
   "metadata": {},
   "source": [
    "Estruturas de condição"
   ]
  },
  {
   "cell_type": "code",
   "execution_count": 119,
   "metadata": {},
   "outputs": [
    {
     "name": "stdout",
     "output_type": "stream",
     "text": [
      "Verdadeiro\n"
     ]
    }
   ],
   "source": [
    "#Definiçao\n",
    "\n",
    "if (True):\n",
    "    print('Verdadeiro')\n",
    "\n",
    "if (False):\n",
    "    print('Verdadeiro')"
   ]
  },
  {
   "cell_type": "code",
   "execution_count": 131,
   "metadata": {},
   "outputs": [
    {
     "name": "stdout",
     "output_type": "stream",
     "text": [
      "Falso - string != num\n"
     ]
    }
   ],
   "source": [
    "#Exemplos de utilizações\n",
    "\n",
    "string = '1'\n",
    "num = 1\n",
    "\n",
    "if(string == num):\n",
    "    print('Verdadeiro - string == num')\n",
    "else:\n",
    "    print('Falso - string != num')"
   ]
  },
  {
   "cell_type": "code",
   "execution_count": 132,
   "metadata": {},
   "outputs": [
    {
     "name": "stdout",
     "output_type": "stream",
     "text": [
      "Verdadeiro - string == str(num)\n",
      "Verdadeiro - str(num) == string\n"
     ]
    }
   ],
   "source": [
    "#Exemplos de utilizações\n",
    "\n",
    "if(string == num):\n",
    "    print('Verdadeiro - string == num')\n",
    "elif(string == str(num)):\n",
    "    print('Verdadeiro - string == str(num)')\n",
    "elif(str(num) == string):\n",
    "    print('Verdadeiro - str(num) == string') #não é executado porque ja foi satisfeito a condição\n",
    "else:\n",
    "    print('else')\n",
    "\n",
    "if(str(num) == string):\n",
    "    print('Verdadeiro - str(num) == string')"
   ]
  },
  {
   "cell_type": "markdown",
   "metadata": {},
   "source": [
    "Estruturas de repetição"
   ]
  },
  {
   "cell_type": "code",
   "execution_count": 133,
   "metadata": {},
   "outputs": [
    {
     "name": "stdout",
     "output_type": "stream",
     "text": [
      "1\n",
      "2\n",
      "3\n",
      "4\n",
      "5\n",
      "6\n",
      "7\n",
      "8\n",
      "9\n",
      "10\n"
     ]
    }
   ],
   "source": [
    "#Definição de 'for'\n",
    "\n",
    "for elemento in range(1,11):\n",
    "    # bloco de código a ser repetido para cada elemento\n",
    "    print(elemento)"
   ]
  },
  {
   "cell_type": "code",
   "execution_count": 135,
   "metadata": {},
   "outputs": [
    {
     "name": "stdout",
     "output_type": "stream",
     "text": [
      "1\n",
      "2\n",
      "3\n",
      "4\n",
      "5\n",
      "6\n",
      "7\n",
      "8\n",
      "9\n",
      "10\n"
     ]
    }
   ],
   "source": [
    "#Definição de While\n",
    "x = 1\n",
    "while x<11:\n",
    "    # bloco de código a ser repetido enquanto a condição for verdadeira\n",
    "    print(x)\n",
    "    x += 1"
   ]
  },
  {
   "cell_type": "code",
   "execution_count": 137,
   "metadata": {},
   "outputs": [
    {
     "name": "stdout",
     "output_type": "stream",
     "text": [
      "1\n",
      "2\n",
      "3\n",
      "4\n",
      "5\n",
      "P\n",
      "y\n",
      "t\n",
      "h\n",
      "o\n",
      "n\n"
     ]
    }
   ],
   "source": [
    "#Exemplos de utilizações com 'for'\n",
    "\n",
    "# Iterando sobre uma lista\n",
    "lista = [1, 2, 3, 4, 5]\n",
    "for numero in lista:\n",
    "    print(numero)\n",
    "\n",
    "# Iterando sobre uma string\n",
    "texto = \"Python\"\n",
    "for caractere in texto:\n",
    "    print(caractere)"
   ]
  }
 ],
 "metadata": {
  "kernelspec": {
   "display_name": "Python 3",
   "language": "python",
   "name": "python3"
  },
  "language_info": {
   "codemirror_mode": {
    "name": "ipython",
    "version": 3
   },
   "file_extension": ".py",
   "mimetype": "text/x-python",
   "name": "python",
   "nbconvert_exporter": "python",
   "pygments_lexer": "ipython3",
   "version": "3.12.3"
  }
 },
 "nbformat": 4,
 "nbformat_minor": 2
}
